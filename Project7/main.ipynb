{
 "cells": [
  {
   "cell_type": "code",
   "execution_count": 1,
   "metadata": {},
   "outputs": [],
   "source": [
    "import csv\n",
    "fifa_file = open('Fifa18.csv', encoding='utf-8')\n",
    "file_reader = csv.reader(fifa_file)\n",
    "player_data = list(file_reader)\n",
    "header = player_data[0]\n",
    "player_data = player_data[1:]\n",
    "for row in player_data:\n",
    "    for idx in [2,6,7,8]:\n",
    "        row[idx] = float(row[idx])"
   ]
  },
  {
   "cell_type": "code",
   "execution_count": 2,
   "metadata": {},
   "outputs": [
    {
     "name": "stdout",
     "output_type": "stream",
     "text": [
      "['Id', 'name', 'Age', 'nationality', 'club', 'league', 'euro_wage', 'networth', 'score_of_100']\n"
     ]
    }
   ],
   "source": [
    "print(header)\n"
   ]
  },
  {
   "cell_type": "code",
   "execution_count": 3,
   "metadata": {},
   "outputs": [
    {
     "data": {
      "text/plain": [
       "'B. Richardson'"
      ]
     },
     "execution_count": 3,
     "metadata": {},
     "output_type": "execute_result"
    }
   ],
   "source": [
    "#q1\n",
    "index_oldest = 0\n",
    "oldest_age = 0\n",
    "for x in range(len(player_data)): #iterate through entire list\n",
    "    currentAge = player_data[x][header.index(\"Age\")]\n",
    "    #currentAge = float(currentAge)\n",
    "    if currentAge > oldest_age:\n",
    "        oldest_age = currentAge\n",
    "        index_oldest = x\n",
    "\n",
    "player_data[index_oldest][header.index(\"name\")]\n",
    "\n",
    "    "
   ]
  },
  {
   "cell_type": "code",
   "execution_count": 4,
   "metadata": {},
   "outputs": [
    {
     "data": {
      "text/plain": [
       "'Cristiano Ronaldo'"
      ]
     },
     "execution_count": 4,
     "metadata": {},
     "output_type": "execute_result"
    }
   ],
   "source": [
    "#q2\n",
    "index_highestPay = 0\n",
    "highest_pay = 0\n",
    "for x in range(len(player_data)): #iterate through entire list\n",
    "    currentPay = player_data[x][header.index(\"euro_wage\")]\n",
    "    \n",
    "    if currentPay > highest_pay:\n",
    "        highest_pay = currentPay\n",
    "        index_highestPay = x\n",
    "\n",
    "player_data[index_highestPay][header.index(\"name\")]"
   ]
  },
  {
   "cell_type": "code",
   "execution_count": 5,
   "metadata": {},
   "outputs": [
    {
     "data": {
      "text/plain": [
       "'Neymar'"
      ]
     },
     "execution_count": 5,
     "metadata": {},
     "output_type": "execute_result"
    }
   ],
   "source": [
    "#q3\n",
    "index_highestNetWorth = 0\n",
    "highest_NetWorth = 0\n",
    "for x in range(len(player_data)): #iterate through entire list\n",
    "    currentNetWorth = player_data[x][header.index(\"networth\")]\n",
    "    \n",
    "    if currentNetWorth > highest_NetWorth:\n",
    "        highest_NetWorth = currentNetWorth\n",
    "        index_highestNetWorth = x\n",
    "\n",
    "player_data[index_highestNetWorth][header.index(\"name\")]"
   ]
  },
  {
   "cell_type": "code",
   "execution_count": 6,
   "metadata": {},
   "outputs": [
    {
     "data": {
      "text/plain": [
       "'Paris Saint-Germain'"
      ]
     },
     "execution_count": 6,
     "metadata": {},
     "output_type": "execute_result"
    }
   ],
   "source": [
    "#q4\n",
    "player_data[index_highestNetWorth][header.index(\"club\")]"
   ]
  },
  {
   "cell_type": "code",
   "execution_count": null,
   "metadata": {},
   "outputs": [],
   "source": []
  }
 ],
 "metadata": {
  "kernelspec": {
   "display_name": "Python 3",
   "language": "python",
   "name": "python3"
  },
  "language_info": {
   "codemirror_mode": {
    "name": "ipython",
    "version": 3
   },
   "file_extension": ".py",
   "mimetype": "text/x-python",
   "name": "python",
   "nbconvert_exporter": "python",
   "pygments_lexer": "ipython3",
   "version": "3.7.2"
  }
 },
 "nbformat": 4,
 "nbformat_minor": 2
}
