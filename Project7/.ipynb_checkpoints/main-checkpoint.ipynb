{
 "cells": [
  {
   "cell_type": "code",
   "execution_count": 16,
   "metadata": {},
   "outputs": [],
   "source": [
    "import csv\n",
    "fifa_file = open('Fifa18.csv', encoding='utf-8')\n",
    "file_reader = csv.reader(fifa_file)\n",
    "player_data = list(file_reader)\n",
    "header = player_data[0]\n",
    "player_data = player_data[1:]\n",
    "for row in player_data:\n",
    "    for idx in [2,6,7,8]:\n",
    "        row[idx] = float(row[idx])\n",
    "\n",
    "def get_column(col_idx):\n",
    "    return [row[col_idx] for row in player_data]\n",
    "\n",
    "def player_count(country):\n",
    "    count = 0\n",
    "    for x in range(len(player_data)):\n",
    "        nationality = player_data[x][header.index(\"nationality\")]\n",
    "        if nationality == country:\n",
    "            count +=1\n",
    "            \n",
    "        else:\n",
    "            pass\n",
    "    return count"
   ]
  },
  {
   "cell_type": "code",
   "execution_count": 2,
   "metadata": {},
   "outputs": [
    {
     "name": "stdout",
     "output_type": "stream",
     "text": [
      "['Id', 'name', 'Age', 'nationality', 'club', 'league', 'euro_wage', 'networth', 'score_of_100']\n"
     ]
    }
   ],
   "source": [
    "print(header)\n"
   ]
  },
  {
   "cell_type": "code",
   "execution_count": 3,
   "metadata": {},
   "outputs": [
    {
     "data": {
      "text/plain": [
       "'B. Richardson'"
      ]
     },
     "execution_count": 3,
     "metadata": {},
     "output_type": "execute_result"
    }
   ],
   "source": [
    "#q1\n",
    "index_oldest = 0\n",
    "oldest_age = 0\n",
    "for x in range(len(player_data)): #iterate through entire list\n",
    "    currentAge = player_data[x][header.index(\"Age\")]\n",
    "    #currentAge = float(currentAge)\n",
    "    if currentAge > oldest_age:\n",
    "        oldest_age = currentAge\n",
    "        index_oldest = x\n",
    "\n",
    "player_data[index_oldest][header.index(\"name\")]\n",
    "\n",
    "    "
   ]
  },
  {
   "cell_type": "code",
   "execution_count": 4,
   "metadata": {},
   "outputs": [
    {
     "data": {
      "text/plain": [
       "'Cristiano Ronaldo'"
      ]
     },
     "execution_count": 4,
     "metadata": {},
     "output_type": "execute_result"
    }
   ],
   "source": [
    "#q2\n",
    "index_highestPay = 0\n",
    "highest_pay = 0\n",
    "for x in range(len(player_data)): #iterate through entire list\n",
    "    currentPay = player_data[x][header.index(\"euro_wage\")]\n",
    "    \n",
    "    if currentPay > highest_pay:\n",
    "        highest_pay = currentPay\n",
    "        index_highestPay = x\n",
    "\n",
    "player_data[index_highestPay][header.index(\"name\")]"
   ]
  },
  {
   "cell_type": "code",
   "execution_count": 5,
   "metadata": {},
   "outputs": [
    {
     "data": {
      "text/plain": [
       "'Neymar'"
      ]
     },
     "execution_count": 5,
     "metadata": {},
     "output_type": "execute_result"
    }
   ],
   "source": [
    "#q3\n",
    "index_highestNetWorth = 0\n",
    "highest_NetWorth = 0\n",
    "for x in range(len(player_data)): #iterate through entire list\n",
    "    currentNetWorth = player_data[x][header.index(\"networth\")]\n",
    "    \n",
    "    if currentNetWorth > highest_NetWorth:\n",
    "        highest_NetWorth = currentNetWorth\n",
    "        index_highestNetWorth = x\n",
    "\n",
    "player_data[index_highestNetWorth][header.index(\"name\")]"
   ]
  },
  {
   "cell_type": "code",
   "execution_count": 6,
   "metadata": {},
   "outputs": [
    {
     "data": {
      "text/plain": [
       "'Paris Saint-Germain'"
      ]
     },
     "execution_count": 6,
     "metadata": {},
     "output_type": "execute_result"
    }
   ],
   "source": [
    "#q4\n",
    "player_data[index_highestNetWorth][header.index(\"club\")]"
   ]
  },
  {
   "cell_type": "code",
   "execution_count": 7,
   "metadata": {},
   "outputs": [
    {
     "data": {
      "text/plain": [
       "['Portugal', 'Argentina', 'Brazil', 'Uruguay', 'Germany']"
      ]
     },
     "execution_count": 7,
     "metadata": {},
     "output_type": "execute_result"
    }
   ],
   "source": [
    "#q5\n",
    "question5 = get_column(header.index(\"nationality\"))\n",
    "first_5nationalities = question5[:5]\n",
    "first_5nationalities"
   ]
  },
  {
   "cell_type": "code",
   "execution_count": 8,
   "metadata": {},
   "outputs": [
    {
     "data": {
      "text/plain": [
       "['A. Abbas', 'A. Abbas', 'A. Abdallah', 'A. Abdennour', 'A. Abdi']"
      ]
     },
     "execution_count": 8,
     "metadata": {},
     "output_type": "execute_result"
    }
   ],
   "source": [
    "#q6\n",
    "question6 = get_column(header.index(\"name\"))\n",
    "question6.sort()\n",
    "first_5alphabetically = question6[:5]\n",
    "first_5alphabetically"
   ]
  },
  {
   "cell_type": "code",
   "execution_count": 9,
   "metadata": {},
   "outputs": [
    {
     "data": {
      "text/plain": [
       "2407282.6149178543"
      ]
     },
     "execution_count": 9,
     "metadata": {},
     "output_type": "execute_result"
    }
   ],
   "source": [
    "#q7\n",
    "question7 = get_column(header.index(\"networth\"))\n",
    "sum_question7 = sum(question7)\n",
    "avg_question7 = sum_question7 / len(question7)\n",
    "avg_question7"
   ]
  },
  {
   "cell_type": "code",
   "execution_count": 11,
   "metadata": {},
   "outputs": [
    {
     "data": {
      "text/plain": [
       "25.133264640219817"
      ]
     },
     "execution_count": 11,
     "metadata": {},
     "output_type": "execute_result"
    }
   ],
   "source": [
    "#q8\n",
    "question8 = get_column(header.index(\"Age\"))\n",
    "sum_question8 = sum(question8)\n",
    "avg_question8 = sum_question8/ len(question8)\n",
    "avg_question8"
   ]
  },
  {
   "cell_type": "code",
   "execution_count": 18,
   "metadata": {},
   "outputs": [
    {
     "data": {
      "text/plain": [
       "355"
      ]
     },
     "execution_count": 18,
     "metadata": {},
     "output_type": "execute_result"
    }
   ],
   "source": [
    "#q9\n",
    "player_count(\"Portugal\")"
   ]
  },
  {
   "cell_type": "code",
   "execution_count": 19,
   "metadata": {},
   "outputs": [
    {
     "data": {
      "text/plain": [
       "800"
      ]
     },
     "execution_count": 19,
     "metadata": {},
     "output_type": "execute_result"
    }
   ],
   "source": [
    "#q10\n",
    "player_count(\"Brazil\")"
   ]
  },
  {
   "cell_type": "code",
   "execution_count": 34,
   "metadata": {},
   "outputs": [
    {
     "data": {
      "text/plain": [
       "'England'"
      ]
     },
     "execution_count": 34,
     "metadata": {},
     "output_type": "execute_result"
    }
   ],
   "source": [
    "#q11\n",
    "unique_countries = []\n",
    "for x in range(len(player_data)):\n",
    "    current_country = player_data[x][header.index(\"nationality\")]\n",
    "    if current_country not in unique_countries:\n",
    "        unique_countries.append(current_country)\n",
    "\n",
    "country = \"\"\n",
    "num_people = 0\n",
    "for countries in unique_countries:\n",
    "    number = player_count(countries)\n",
    "    if number>num_people:\n",
    "        num_people = number\n",
    "        country = countries\n",
    "    else:\n",
    "        pass\n",
    "    \n",
    "country\n",
    "    \n",
    "    "
   ]
  },
  {
   "cell_type": "code",
   "execution_count": null,
   "metadata": {},
   "outputs": [],
   "source": []
  }
 ],
 "metadata": {
  "kernelspec": {
   "display_name": "Python 3",
   "language": "python",
   "name": "python3"
  },
  "language_info": {
   "codemirror_mode": {
    "name": "ipython",
    "version": 3
   },
   "file_extension": ".py",
   "mimetype": "text/x-python",
   "name": "python",
   "nbconvert_exporter": "python",
   "pygments_lexer": "ipython3",
   "version": "3.7.2"
  }
 },
 "nbformat": 4,
 "nbformat_minor": 2
}
